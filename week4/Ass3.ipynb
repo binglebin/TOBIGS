{
 "cells": [
  {
   "cell_type": "code",
   "execution_count": 1,
   "metadata": {},
   "outputs": [],
   "source": [
    "import pandas as pd\n",
    "import numpy as np\n",
    "import numpy.linalg as lin\n",
    "from sklearn.model_selection import train_test_split\n",
    "from sklearn.preprocessing import StandardScaler\n",
    "from sklearn.decomposition import PCA\n",
    "from sklearn.neighbors import KNeighborsClassifier\n",
    "from sklearn.ensemble import RandomForestClassifier\n",
    "import matplotlib.pyplot as plt\n",
    "import time\n",
    "\n",
    "df = pd.read_csv('train.csv')"
   ]
  },
  {
   "cell_type": "code",
   "execution_count": 2,
   "metadata": {},
   "outputs": [],
   "source": [
    "X_train = df.drop('label', axis=1).values\n",
    "target_label = df['label'].values\n",
    "\n",
    "X_tr, X_test, y_tr, y_test = train_test_split(X_train, target_label, test_size=0.2, random_state = 2019)"
   ]
  },
  {
   "cell_type": "markdown",
   "metadata": {},
   "source": [
    "## original data standardization"
   ]
  },
  {
   "cell_type": "code",
   "execution_count": 3,
   "metadata": {
    "scrolled": true
   },
   "outputs": [
    {
     "name": "stderr",
     "output_type": "stream",
     "text": [
      "C:\\Users\\CHAEBIN\\AppData\\Local\\conda\\conda\\envs\\ml_scratch\\lib\\site-packages\\sklearn\\utils\\validation.py:595: DataConversionWarning: Data with input dtype int64 was converted to float64 by StandardScaler.\n",
      "  warnings.warn(msg, DataConversionWarning)\n",
      "C:\\Users\\CHAEBIN\\AppData\\Local\\conda\\conda\\envs\\ml_scratch\\lib\\site-packages\\sklearn\\utils\\validation.py:595: DataConversionWarning: Data with input dtype int64 was converted to float64 by StandardScaler.\n",
      "  warnings.warn(msg, DataConversionWarning)\n",
      "C:\\Users\\CHAEBIN\\AppData\\Local\\conda\\conda\\envs\\ml_scratch\\lib\\site-packages\\sklearn\\utils\\validation.py:595: DataConversionWarning: Data with input dtype int64 was converted to float64 by StandardScaler.\n",
      "  warnings.warn(msg, DataConversionWarning)\n"
     ]
    },
    {
     "data": {
      "text/plain": [
       "(33600, 784)"
      ]
     },
     "execution_count": 3,
     "metadata": {},
     "output_type": "execute_result"
    }
   ],
   "source": [
    "standardizer = StandardScaler().fit(X_tr)\n",
    "\n",
    "X_tr_std = standardizer.transform(X_tr)\n",
    "X_test_std = standardizer.transform(X_test)\n",
    "X_tr_std.shape #(33600, 784)"
   ]
  },
  {
   "cell_type": "markdown",
   "metadata": {},
   "source": [
    "## PCA (eigenvalue > 1)"
   ]
  },
  {
   "cell_type": "code",
   "execution_count": 4,
   "metadata": {},
   "outputs": [],
   "source": [
    "cov_mat = np.cov(X_tr.T)\n",
    "cov_mat.shape\n",
    "explain_values_raw, components_raw = lin.eig(cov_mat)\n",
    "pca_k = len(explain_values_raw[explain_values_raw > 1])"
   ]
  },
  {
   "cell_type": "code",
   "execution_count": 5,
   "metadata": {
    "scrolled": true
   },
   "outputs": [
    {
     "data": {
      "text/plain": [
       "(33600, 649)"
      ]
     },
     "execution_count": 5,
     "metadata": {},
     "output_type": "execute_result"
    }
   ],
   "source": [
    "pca = PCA(pca_k).fit(X_tr_std)\n",
    "pca_X_tr = pca.transform(X_tr_std)\n",
    "pca_X_test = pca.transform(X_test_std)\n",
    "components = pca.components_\n",
    "pca_X_tr.shape #(33600, 649)"
   ]
  },
  {
   "cell_type": "markdown",
   "metadata": {},
   "source": [
    "### knn with original data"
   ]
  },
  {
   "cell_type": "code",
   "execution_count": 6,
   "metadata": {},
   "outputs": [
    {
     "name": "stdout",
     "output_type": "stream",
     "text": [
      "Accuracy: 0.9182142857142858 \n",
      "Time elapsed: 183.388032913208 seconds\n"
     ]
    }
   ],
   "source": [
    "time_start = time.time()\n",
    "real_knn_k = int(np.sqrt(X_tr.shape[0]))\n",
    "real_knn = KNeighborsClassifier(n_neighbors = real_knn_k, n_jobs = -1)\n",
    "real_knn.fit(X_tr_std, y_tr)\n",
    "#clusters = real_knn.predict(X_test_std)\n",
    "print( 'Accuracy: {} '.format(real_knn.score(X_test_std, y_test)))\n",
    "print( 'Time elapsed: {} seconds'.format(time.time() - time_start))\n",
    "'''\n",
    "Accuracy: 0.9182142857142858 \n",
    "Time elapsed: 183.388032913208 seconds\n",
    "'''"
   ]
  },
  {
   "cell_type": "markdown",
   "metadata": {},
   "source": [
    "### knn with pca data"
   ]
  },
  {
   "cell_type": "code",
   "execution_count": 7,
   "metadata": {},
   "outputs": [
    {
     "name": "stdout",
     "output_type": "stream",
     "text": [
      "Accuracy: 0.9205952380952381 \n",
      "Time elapsed: 162.1506233215332 seconds\n"
     ]
    }
   ],
   "source": [
    "time_start = time.time()\n",
    "pca_knn_k = int(np.sqrt(pca_X_tr.shape[0]))\n",
    "pca_knn = KNeighborsClassifier(n_neighbors = pca_knn_k, n_jobs = -1)\n",
    "pca_knn.fit(pca_X_tr, y_tr)\n",
    "#clusters = pca_knn.predict(pca_X_test)\n",
    "print( 'Accuracy: {} '.format(pca_knn.score(pca_X_test, y_test)))\n",
    "print( 'Time elapsed: {} seconds'.format(time.time() - time_start))\n",
    "'''\n",
    "Accuracy: 0.9205952380952381 \n",
    "Time elapsed: 162.1506233215332 seconds\n",
    "'''"
   ]
  },
  {
   "cell_type": "markdown",
   "metadata": {},
   "source": [
    "### random forest with original data"
   ]
  },
  {
   "cell_type": "code",
   "execution_count": 8,
   "metadata": {
    "scrolled": false
   },
   "outputs": [
    {
     "name": "stdout",
     "output_type": "stream",
     "text": [
      "Accuracy: 0.9364285714285714 \n",
      "Time elapsed: 1.7449746131896973 seconds\n"
     ]
    }
   ],
   "source": [
    "time_start = time.time()\n",
    "real_rf = RandomForestClassifier(n_estimators =10,  n_jobs = -1, random_state = 2019)\n",
    "real_rf.fit(X_tr_std, y_tr)\n",
    "#clusters = real_rf.predict(X_test_std)\n",
    "print( 'Accuracy: {} '.format(real_rf.score(X_test_std, y_test)))\n",
    "print( 'Time elapsed: {} seconds'.format(time.time() - time_start))\n",
    "'''\n",
    "Accuracy: 0.9364285714285714 \n",
    "Time elapsed: 1.7449746131896973 seconds\n",
    "'''"
   ]
  },
  {
   "cell_type": "markdown",
   "metadata": {},
   "source": [
    "### random forest with pca data"
   ]
  },
  {
   "cell_type": "code",
   "execution_count": 9,
   "metadata": {
    "scrolled": true
   },
   "outputs": [
    {
     "name": "stdout",
     "output_type": "stream",
     "text": [
      "Accuracy: 0.8263095238095238 \n",
      "Time elapsed: 6.1536946296691895 seconds\n"
     ]
    }
   ],
   "source": [
    "time_start = time.time()\n",
    "pca_rf = RandomForestClassifier(n_estimators = 10,  n_jobs = -1, random_state = 2019)\n",
    "pca_rf.fit(pca_X_tr, y_tr)\n",
    "#clusters = pca_rf.predict(pca_X_test)\n",
    "print( 'Accuracy: {} '.format(pca_rf.score(pca_X_test, y_test)))\n",
    "print( 'Time elapsed: {} seconds'.format(time.time() - time_start))\n",
    "'''\n",
    "Accuracy: 0.8263095238095238 \n",
    "Time elapsed: 6.1536946296691895 seconds\n",
    "'''"
   ]
  },
  {
   "cell_type": "markdown",
   "metadata": {},
   "source": [
    "knn의 k 개수는 통상적으로 사용되는 전체 차원수의 제곱근을 사용하였다.\n",
    "\n",
    "knn의 경우 original data에 비해 pca 데이터가 시간이 20초 가량 빨라졌다. ( test accuracy 약 0.01 하락)\n",
    "\n",
    "random forest의 경우 test accuracy 약 0.1 감소하며 오히려 소요시간이 증가하는 모습을 보인다.\n",
    "\n",
    "이는 original data의 원소들의 상당수가 0인것에 비해 pca 데이터는 모든 원소가 특정한 수를 가지고 있어서 연산량이 늘어난 것으로 보인다."
   ]
  },
  {
   "cell_type": "markdown",
   "metadata": {},
   "source": [
    "## PCA (10)"
   ]
  },
  {
   "cell_type": "code",
   "execution_count": 6,
   "metadata": {
    "scrolled": true
   },
   "outputs": [
    {
     "data": {
      "text/plain": [
       "(33600, 10)"
      ]
     },
     "execution_count": 6,
     "metadata": {},
     "output_type": "execute_result"
    }
   ],
   "source": [
    "pca = PCA(10).fit(X_tr_std)\n",
    "pca_X_tr = pca.transform(X_tr_std)\n",
    "pca_X_test = pca.transform(X_test_std)\n",
    "components = pca.components_\n",
    "pca_X_tr.shape #(33600, 10)"
   ]
  },
  {
   "cell_type": "markdown",
   "metadata": {},
   "source": [
    "### knn with pca (10) data"
   ]
  },
  {
   "cell_type": "code",
   "execution_count": 8,
   "metadata": {
    "scrolled": true
   },
   "outputs": [
    {
     "name": "stdout",
     "output_type": "stream",
     "text": [
      "Accuracy: 0.8676190476190476 \n",
      "Time elapsed: 2.8538858890533447 seconds\n"
     ]
    },
    {
     "data": {
      "text/plain": [
       "'\\nAccuracy: 0.8990476190476191 \\nTime elapsed: 0.6804764270782471 seconds\\n'"
      ]
     },
     "execution_count": 8,
     "metadata": {},
     "output_type": "execute_result"
    }
   ],
   "source": [
    "time_start = time.time()\n",
    "pca_knn_k = int(np.sqrt(pca_X_tr.shape[0]))\n",
    "pca_knn = KNeighborsClassifier(n_neighbors = pca_knn_k, n_jobs = -1)\n",
    "pca_knn.fit(pca_X_tr, y_tr)\n",
    "#clusters = pca_knn.predict(pca_X_test)\n",
    "print( 'Accuracy: {} '.format( pca_knn.score(pca_X_test, y_test)))\n",
    "print( 'Time elapsed: {} seconds'.format(time.time() - time_start))\n",
    "'''\n",
    "Accuracy: 0.8990476190476191 \n",
    "Time elapsed: 0.6804764270782471 seconds\n",
    "'''"
   ]
  },
  {
   "cell_type": "markdown",
   "metadata": {},
   "source": [
    "### random forest with pca (10) data"
   ]
  },
  {
   "cell_type": "code",
   "execution_count": 12,
   "metadata": {},
   "outputs": [
    {
     "name": "stdout",
     "output_type": "stream",
     "text": [
      "Accuracy: 0.8775 \n",
      "Time elapsed: 0.8635261058807373 seconds\n"
     ]
    }
   ],
   "source": [
    "time_start = time.time()\n",
    "pca_rf = RandomForestClassifier(n_estimators = 10,  n_jobs = -1, random_state = 2019)\n",
    "pca_rf.fit(pca_X_tr, y_tr)\n",
    "#clusters = pca_rf.predict(pca_X_test)\n",
    "print( 'Accuracy: {} '.format( pca_rf.score(pca_X_test, y_test)))\n",
    "print( 'Time elapsed: {} seconds'.format(time.time() - time_start))\n",
    "'''\n",
    "Accuracy: 0.8775 \n",
    "Time elapsed: 0.8635261058807373 seconds\n",
    "'''"
   ]
  },
  {
   "cell_type": "markdown",
   "metadata": {},
   "source": [
    "pca 의 시간 감소를 확인하기위해 차원 수를 10으로 줄였다.\n",
    "\n",
    "knn의 경우 original data가 183초 걸렸던 것에 비해 0.7초로 연산이 매우 빨라졌고 accuracy는 0.92에서 0.90으로 줄었다.\n",
    "\n",
    "random forest의 경우 original data의 1.7초에서 0.86초로 빨라졌고 accuracy는 0.93에서 0.88로 감소하였다."
   ]
  }
 ],
 "metadata": {
  "kernelspec": {
   "display_name": "Python 3",
   "language": "python",
   "name": "python3"
  },
  "language_info": {
   "codemirror_mode": {
    "name": "ipython",
    "version": 3
   },
   "file_extension": ".py",
   "mimetype": "text/x-python",
   "name": "python",
   "nbconvert_exporter": "python",
   "pygments_lexer": "ipython3",
   "version": "3.6.8"
  }
 },
 "nbformat": 4,
 "nbformat_minor": 2
}
