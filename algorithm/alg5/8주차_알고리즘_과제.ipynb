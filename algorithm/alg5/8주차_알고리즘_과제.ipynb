{
 "cells": [
  {
   "cell_type": "markdown",
   "metadata": {},
   "source": [
    "내려올 때 선택되어 왔던 모든 수의 합이 최대가 되는 경로의 합을 구하는 알고리즘"
   ]
  },
  {
   "cell_type": "code",
   "execution_count": 4,
   "metadata": {},
   "outputs": [
    {
     "name": "stdout",
     "output_type": "stream",
     "text": [
      "5\n",
      "7\n",
      "3 8\n",
      "8 1 0\n",
      "2 7 4 4\n",
      "4 5 2 6 5\n"
     ]
    }
   ],
   "source": [
    "num = int(input())\n",
    "\n",
    "triangle = list()\n",
    "for i in range(num):\n",
    "    triangle.append([int(x) for x in input().split()])"
   ]
  },
  {
   "cell_type": "code",
   "execution_count": 5,
   "metadata": {},
   "outputs": [
    {
     "data": {
      "text/plain": [
       "[[0], [0, 0], [0, 0, 0], [0, 0, 0, 0], [0, 0, 0, 0, 0]]"
      ]
     },
     "execution_count": 5,
     "metadata": {},
     "output_type": "execute_result"
    }
   ],
   "source": [
    "max_sum = [[0 for _ in range(x+1)] for x in range(num)]\n",
    "max_sum"
   ]
  },
  {
   "cell_type": "code",
   "execution_count": 6,
   "metadata": {},
   "outputs": [],
   "source": [
    "max_sum[0][0] = triangle[0][0]\n",
    "for i in range(1,num):\n",
    "    for j in range(i+1):\n",
    "        if j==0:\n",
    "            max_sum[i][j] = triangle[i][j] + max_sum[i-1][j]\n",
    "        elif j==i:\n",
    "            max_sum[i][j] = triangle[i][j] + max_sum[i-1][j-1]\n",
    "            \n",
    "        elif max_sum[i-1][j-1] > max_sum[i-1][j]:\n",
    "            max_sum[i][j] = triangle[i][j] + max_sum[i-1][j-1]\n",
    "        else:\n",
    "            max_sum[i][j] = triangle[i][j] + max_sum[i-1][j]"
   ]
  },
  {
   "cell_type": "code",
   "execution_count": 7,
   "metadata": {
    "scrolled": true
   },
   "outputs": [
    {
     "data": {
      "text/plain": [
       "30"
      ]
     },
     "execution_count": 7,
     "metadata": {},
     "output_type": "execute_result"
    }
   ],
   "source": [
    "max_value = 0\n",
    "for i in range(num):\n",
    "    if(max_value < max_sum[num-1][i]):\n",
    "        max_value = max_sum[num-1][i]\n",
    "max_value"
   ]
  },
  {
   "cell_type": "markdown",
   "metadata": {},
   "source": [
    "가져올 수 있는 금괴 개수의 최댓값\n",
    "\n",
    "-대각선으로 이동시 가져올 수 있는 금괴의 수가 줄어들기 때문에 고려하지 않음"
   ]
  },
  {
   "cell_type": "code",
   "execution_count": 20,
   "metadata": {
    "scrolled": false
   },
   "outputs": [
    {
     "name": "stdout",
     "output_type": "stream",
     "text": [
      "4 3\n"
     ]
    }
   ],
   "source": [
    "n, m= map(int, input().split())"
   ]
  },
  {
   "cell_type": "code",
   "execution_count": 22,
   "metadata": {
    "scrolled": true
   },
   "outputs": [
    {
     "name": "stdout",
     "output_type": "stream",
     "text": [
      "1 2 3\n",
      "6 5 4\n",
      "7 8 9\n",
      "12 11 10\n"
     ]
    }
   ],
   "source": [
    "gold_room=list()\n",
    "for _ in range(n):\n",
    "    gold_room.append([int(x) for x in input().split()])"
   ]
  },
  {
   "cell_type": "code",
   "execution_count": 23,
   "metadata": {},
   "outputs": [
    {
     "data": {
      "text/plain": [
       "[[1, 2, 3], [6, 5, 4], [7, 8, 9], [12, 11, 10]]"
      ]
     },
     "execution_count": 23,
     "metadata": {},
     "output_type": "execute_result"
    }
   ],
   "source": [
    "gold_room"
   ]
  },
  {
   "cell_type": "code",
   "execution_count": 24,
   "metadata": {},
   "outputs": [
    {
     "data": {
      "text/plain": [
       "[[0, 0, 0], [0, 0, 0], [0, 0, 0], [0, 0, 0]]"
      ]
     },
     "execution_count": 24,
     "metadata": {},
     "output_type": "execute_result"
    }
   ],
   "source": [
    "max_sum = [[0 for _ in range(m)] for x in range(n)]\n",
    "max_sum"
   ]
  },
  {
   "cell_type": "code",
   "execution_count": 25,
   "metadata": {},
   "outputs": [],
   "source": [
    "for i in range(n):\n",
    "    for j in range(m):\n",
    "        if i==0:\n",
    "            if j==0:\n",
    "                max_sum[i][j] = gold_room[i][j]\n",
    "            max_sum[i][j] = gold_room[i][j] + max_sum[i][j-1]\n",
    "        elif j==0:\n",
    "            max_sum[i][j] = gold_room[i][j] + max_sum[i-1][j]\n",
    "            \n",
    "        elif max_sum[i][j-1] > max_sum[i-1][j]:\n",
    "            max_sum[i][j] = gold_room[i][j] + max_sum[i][j-1]\n",
    "        else:\n",
    "            max_sum[i][j] = gold_room[i][j] + max_sum[i-1][j]"
   ]
  },
  {
   "cell_type": "code",
   "execution_count": 26,
   "metadata": {},
   "outputs": [
    {
     "data": {
      "text/plain": [
       "47"
      ]
     },
     "execution_count": 26,
     "metadata": {},
     "output_type": "execute_result"
    }
   ],
   "source": [
    "max_sum[n-1][m-1]"
   ]
  },
  {
   "cell_type": "markdown",
   "metadata": {},
   "source": [
    "원피스"
   ]
  },
  {
   "cell_type": "code",
   "execution_count": 28,
   "metadata": {
    "scrolled": true
   },
   "outputs": [
    {
     "name": "stdout",
     "output_type": "stream",
     "text": [
      "15\n"
     ]
    }
   ],
   "source": [
    "num = int(input())"
   ]
  },
  {
   "cell_type": "code",
   "execution_count": 29,
   "metadata": {},
   "outputs": [
    {
     "name": "stdout",
     "output_type": "stream",
     "text": [
      "1 21 3 4 5 35 5 4 3 5 98 21 14 17 32\n"
     ]
    }
   ],
   "source": [
    "file_cost = [int(x) for x in input().split()]"
   ]
  },
  {
   "cell_type": "code",
   "execution_count": 41,
   "metadata": {
    "scrolled": true
   },
   "outputs": [],
   "source": [
    "min_sum = [[0 for _ in range(num)] for _ in range(num)]"
   ]
  },
  {
   "cell_type": "code",
   "execution_count": 42,
   "metadata": {
    "scrolled": true
   },
   "outputs": [],
   "source": [
    "cost_sum = [[0 for _ in range(num)] for _ in range(num)]"
   ]
  },
  {
   "cell_type": "code",
   "execution_count": 43,
   "metadata": {},
   "outputs": [],
   "source": [
    "for i in range(num):\n",
    "    min_sum[i][i] = file_cost[i]"
   ]
  },
  {
   "cell_type": "code",
   "execution_count": 44,
   "metadata": {},
   "outputs": [],
   "source": [
    "for l in range(1, num):\n",
    "    for i in range(num - l):\n",
    "        j = i + l\n",
    "        cost_sum[i][j]= float('inf')\n",
    "        for k in range(i,j):\n",
    "            temp = min_sum[i][k] + min_sum[k+1][j]\n",
    "            temp2 = cost_sum[i][k] + cost_sum[k+1][j] + temp\n",
    "            if cost_sum[i][j] > temp2:\n",
    "                min_sum[i][j] = temp\n",
    "                cost_sum[i][j] = temp2\n",
    "                "
   ]
  },
  {
   "cell_type": "code",
   "execution_count": 36,
   "metadata": {
    "scrolled": false
   },
   "outputs": [
    {
     "data": {
      "text/plain": [
       "[[1, 22, 25, 29, 34, 69, 74, 78, 81, 86, 184, 205, 219, 236, 268],\n",
       " [0, 21, 24, 28, 33, 68, 73, 77, 80, 85, 183, 204, 218, 235, 267],\n",
       " [0, 0, 3, 7, 12, 47, 52, 56, 59, 64, 162, 183, 197, 214, 246],\n",
       " [0, 0, 0, 4, 9, 44, 49, 53, 56, 61, 159, 180, 194, 211, 243],\n",
       " [0, 0, 0, 0, 5, 40, 45, 49, 52, 57, 155, 176, 190, 207, 239],\n",
       " [0, 0, 0, 0, 0, 35, 40, 44, 47, 52, 150, 171, 185, 202, 234],\n",
       " [0, 0, 0, 0, 0, 0, 5, 9, 12, 17, 115, 136, 150, 167, 199],\n",
       " [0, 0, 0, 0, 0, 0, 0, 4, 7, 12, 110, 131, 145, 162, 194],\n",
       " [0, 0, 0, 0, 0, 0, 0, 0, 3, 8, 106, 127, 141, 158, 190],\n",
       " [0, 0, 0, 0, 0, 0, 0, 0, 0, 5, 103, 124, 138, 155, 187],\n",
       " [0, 0, 0, 0, 0, 0, 0, 0, 0, 0, 98, 119, 133, 150, 182],\n",
       " [0, 0, 0, 0, 0, 0, 0, 0, 0, 0, 0, 21, 35, 52, 84],\n",
       " [0, 0, 0, 0, 0, 0, 0, 0, 0, 0, 0, 0, 14, 31, 63],\n",
       " [0, 0, 0, 0, 0, 0, 0, 0, 0, 0, 0, 0, 0, 17, 49],\n",
       " [0, 0, 0, 0, 0, 0, 0, 0, 0, 0, 0, 0, 0, 0, 32]]"
      ]
     },
     "execution_count": 36,
     "metadata": {},
     "output_type": "execute_result"
    }
   ],
   "source": [
    "min_sum"
   ]
  },
  {
   "cell_type": "code",
   "execution_count": 37,
   "metadata": {
    "scrolled": true
   },
   "outputs": [
    {
     "data": {
      "text/plain": [
       "[[0, 22, 47, 58, 75, 144, 189, 206, 222, 247, 431, 571, 634, 716, 864],\n",
       " [0, 0, 24, 35, 52, 120, 165, 182, 198, 223, 406, 546, 609, 691, 839],\n",
       " [0, 0, 0, 7, 19, 66, 111, 128, 144, 164, 326, 466, 529, 611, 739],\n",
       " [0, 0, 0, 0, 9, 53, 98, 115, 128, 148, 307, 447, 510, 592, 717],\n",
       " [0, 0, 0, 0, 0, 40, 85, 98, 111, 131, 286, 426, 489, 571, 692],\n",
       " [0, 0, 0, 0, 0, 0, 40, 53, 66, 86, 236, 376, 439, 521, 637],\n",
       " [0, 0, 0, 0, 0, 0, 0, 9, 19, 34, 149, 285, 334, 399, 515],\n",
       " [0, 0, 0, 0, 0, 0, 0, 0, 7, 19, 129, 260, 309, 374, 490],\n",
       " [0, 0, 0, 0, 0, 0, 0, 0, 0, 8, 114, 241, 290, 355, 471],\n",
       " [0, 0, 0, 0, 0, 0, 0, 0, 0, 0, 103, 227, 276, 341, 457],\n",
       " [0, 0, 0, 0, 0, 0, 0, 0, 0, 0, 0, 119, 168, 233, 349],\n",
       " [0, 0, 0, 0, 0, 0, 0, 0, 0, 0, 0, 0, 35, 83, 167],\n",
       " [0, 0, 0, 0, 0, 0, 0, 0, 0, 0, 0, 0, 0, 31, 94],\n",
       " [0, 0, 0, 0, 0, 0, 0, 0, 0, 0, 0, 0, 0, 0, 49],\n",
       " [0, 0, 0, 0, 0, 0, 0, 0, 0, 0, 0, 0, 0, 0, 0]]"
      ]
     },
     "execution_count": 37,
     "metadata": {},
     "output_type": "execute_result"
    }
   ],
   "source": [
    "cost_sum"
   ]
  },
  {
   "cell_type": "code",
   "execution_count": 45,
   "metadata": {},
   "outputs": [
    {
     "name": "stdout",
     "output_type": "stream",
     "text": [
      "864\n"
     ]
    }
   ],
   "source": [
    "print(cost_sum[0][num-1])"
   ]
  }
 ],
 "metadata": {
  "kernelspec": {
   "display_name": "Python 3",
   "language": "python",
   "name": "python3"
  },
  "language_info": {
   "codemirror_mode": {
    "name": "ipython",
    "version": 3
   },
   "file_extension": ".py",
   "mimetype": "text/x-python",
   "name": "python",
   "nbconvert_exporter": "python",
   "pygments_lexer": "ipython3",
   "version": "3.6.8"
  }
 },
 "nbformat": 4,
 "nbformat_minor": 2
}
