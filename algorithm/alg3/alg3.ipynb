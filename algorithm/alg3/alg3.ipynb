{
 "cells": [
  {
   "cell_type": "code",
   "execution_count": 1,
   "metadata": {},
   "outputs": [],
   "source": [
    "from Student import Student\n",
    "from Ban import Ban"
   ]
  },
  {
   "cell_type": "code",
   "execution_count": 2,
   "metadata": {
    "scrolled": true
   },
   "outputs": [],
   "source": [
    "with open('student.txt', 'r', encoding='UTF-8') as f:\n",
    "    school = []\n",
    "    max_no = len(school)\n",
    "    \n",
    "    for line in f:\n",
    "        name, no, idx = line.split()\n",
    "        no = int(no)\n",
    "        idx = int(idx)\n",
    "        \n",
    "        if max_no < no:\n",
    "            for i in range(no-max_no):\n",
    "                school.append(Ban(i+max_no+1))\n",
    "            max_no = len(school)\n",
    "        \n",
    "        school[no-1].append_student(Student(idx, name))\n",
    "        \n",
    "    for i in school:\n",
    "        i.student_list.sort()"
   ]
  },
  {
   "cell_type": "code",
   "execution_count": 3,
   "metadata": {
    "scrolled": false
   },
   "outputs": [
    {
     "name": "stdout",
     "output_type": "stream",
     "text": [
      "<1반>     9명\n",
      "1번  박 세 진\n",
      "2번  이 정 훈\n",
      "3번  이 윤 경\n",
      "4번  임 정 훈\n",
      "5번  오 세 형\n",
      "6번  정 소 영\n",
      "7번  이 미 영\n",
      "8번  김 영 은\n",
      "9번  강 선 우\n",
      "\n",
      "\n",
      "<2반>     9명\n",
      "1번  박 현 우\n",
      "2번  정 준 우\n",
      "3번  박 미 영\n",
      "4번  이 지 연\n",
      "5번  조 영 민\n",
      "6번  김 종 현\n",
      "7번  김 준 영\n",
      "8번  박 영 빈\n",
      "9번  조 형 식\n",
      "\n",
      "\n",
      "<3반>     7명\n",
      "1번  박 현 희\n",
      "2번  정 은 호\n",
      "3번  이 미 경\n",
      "4번  박 영 희\n",
      "5번  조 희 수\n",
      "6번  주 영 은\n",
      "7번  정 재 영\n",
      "\n",
      "\n",
      "<4반>     3명\n",
      "1번  홍 길 동\n",
      "2번  백 경 준\n",
      "3번  이 정 수\n",
      "\n",
      "\n",
      "<5반>     7명\n",
      "1번  박 윤 경\n",
      "2번  이 은 지\n",
      "3번  김 정 은\n",
      "4번  장 영 철\n",
      "5번  김 영 준\n",
      "6번  장 영 진\n",
      "7번  조 윤 희\n",
      "\n",
      "\n"
     ]
    }
   ],
   "source": [
    "for i in school:\n",
    "    print(i)\n",
    "    for j in i.student_list:\n",
    "        print(j)\n",
    "    print('\\n')"
   ]
  },
  {
   "cell_type": "code",
   "execution_count": null,
   "metadata": {},
   "outputs": [],
   "source": []
  }
 ],
 "metadata": {
  "kernelspec": {
   "display_name": "Python 3",
   "language": "python",
   "name": "python3"
  },
  "language_info": {
   "codemirror_mode": {
    "name": "ipython",
    "version": 3
   },
   "file_extension": ".py",
   "mimetype": "text/x-python",
   "name": "python",
   "nbconvert_exporter": "python",
   "pygments_lexer": "ipython3",
   "version": "3.6.8"
  }
 },
 "nbformat": 4,
 "nbformat_minor": 2
}
