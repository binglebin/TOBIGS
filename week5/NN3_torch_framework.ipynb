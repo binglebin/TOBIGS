{
 "cells": [
  {
   "cell_type": "markdown",
   "metadata": {},
   "source": [
    "## Reading Dataset"
   ]
  },
  {
   "cell_type": "code",
   "execution_count": 2,
   "metadata": {},
   "outputs": [],
   "source": [
    "import torchvision\n",
    "import torchvision.transforms as transforms\n",
    "\n",
    "transform = transforms.Compose([transforms.ToTensor(),\n",
    "                                transforms.Normalize((0.5,0.5,0.5), (0.5,0.5,0.5))])\n",
    "'''\n",
    "Torchvision : Python imaging format image를 불러옴\n",
    "transforms.Compose : 전처리 pipeline\n",
    "transforms.ToTensor : 이미지(range [0 , 255])를 float텐서(shape(CxHxW) with range[0.0, 1.0]) 형태로 뱐환\n",
    "PIL image (H x W x C) -> Tensor (C x H x W)\n",
    "transforms.Normalize : input = (input - 0.5 ) / 0.5\n",
    "'''\n",
    "\n",
    "# CIFAR10 data를 transform 시켜서 불러옴\n",
    "trainset = torchvision.datasets.CIFAR10(root='./',\n",
    "                                        train=True,\n",
    "                                        download=False,\n",
    "                                        transform=transform)\n",
    "\n",
    "\n",
    "testset = torchvision.datasets.CIFAR10(root='./',\n",
    "                                       train=False,\n",
    "                                       download=False,\n",
    "                                       transform=transform)\n",
    "\n"
   ]
  },
  {
   "cell_type": "code",
   "execution_count": 3,
   "metadata": {},
   "outputs": [],
   "source": [
    "from torch.utils.data import DataLoader\n",
    "\n",
    "'''\n",
    "torch.utils.data.DataLoader : data를 batch size로 묶음\n",
    "'''\n",
    "\n",
    "trainloader = DataLoader(trainset, \n",
    "                         batch_size=10,\n",
    "                         shuffle=True, \n",
    "                         drop_last=False)\n",
    "\n",
    "testloader = DataLoader(testset, \n",
    "                        batch_size=10,\n",
    "                        shuffle=False,\n",
    "                        drop_last=False)\n",
    "classes = ('plane', 'car', 'bird', 'cat', 'deer',\n",
    "           'dog', 'frog', 'horse', 'ship', 'truck')"
   ]
  },
  {
   "cell_type": "code",
   "execution_count": 4,
   "metadata": {},
   "outputs": [
    {
     "name": "stdout",
     "output_type": "stream",
     "text": [
      "5000\n",
      "torch.Size([10, 3, 32, 32])\n",
      "tensor([3, 0, 9, 1, 5, 9, 7, 4, 6, 7])\n"
     ]
    }
   ],
   "source": [
    "trainiter = iter(trainloader)\n",
    "images, labels = trainiter.next()\n",
    "\n",
    "print(len(trainloader))\n",
    "print(images.shape)\n",
    "print(labels)"
   ]
  },
  {
   "cell_type": "markdown",
   "metadata": {},
   "source": [
    "## Modeling"
   ]
  },
  {
   "cell_type": "code",
   "execution_count": 5,
   "metadata": {},
   "outputs": [],
   "source": [
    "#config\n",
    "src = {'input_size':3*32*32,\n",
    "       'hidden_size':50,\n",
    "       'output_size':10,\n",
    "       'init_weight_range':0.5,\n",
    "       'num_epochs':20,\n",
    "       'batch_size':10,\n",
    "       'learning_rate':1e-3}"
   ]
  },
  {
   "cell_type": "code",
   "execution_count": 6,
   "metadata": {},
   "outputs": [],
   "source": [
    "import torch.nn as nn\n",
    "import torch.nn.functional as F\n",
    "\n",
    "class Net(nn.Module):\n",
    "    def __init__(self, src):\n",
    "        super(Net, self).__init__()\n",
    "        self.fc1 = nn.Linear(src['input_size'], src['hidden_size'])\n",
    "        self.fc2 = nn.Linear(src['hidden_size'], src['output_size'])\n",
    "                             \n",
    "        ## sequential layer\n",
    "        '''\n",
    "        self.seq_fc = nn.Sequential(\n",
    "                            nn.Linear(src['input_size'], src['hidden_size']),\n",
    "                            nn.Linear(src['hidden_size'], src['output_size'])\n",
    "                            )\n",
    "        '''\n",
    "        self.init_range = src['init_weight_range']\n",
    "    \n",
    "    #가중치 초기화\n",
    "    def init_weight(self): \n",
    "        self.fc1.weight.data.uniform_(-self.init_range, self.init_range)\n",
    "        self.fc2.weight.data.uniform_(-self.init_range, self.init_range)\n",
    "        '''\n",
    "        for fc in self.seq_fc:\n",
    "            fc.weight.data.uniform_(-self.init_range, self.init_range)\n",
    "        '''\n",
    "    def forward(self, img):\n",
    "        x = img.view(img.shape[0], -1)\n",
    "        #--------------------\n",
    "        x = self.fc1(x)\n",
    "        x = F.relu(x) #relu\n",
    "        x = self.fc2(x)\n",
    "        y = F.softmax(x, dim=0) #softmax\n",
    "        #--------------------\n",
    "        \n",
    "        ## 4 lines above are identical to \n",
    "        '''\n",
    "        y = self.seq_fc(x)\n",
    "        '''\n",
    "        return y"
   ]
  },
  {
   "cell_type": "code",
   "execution_count": 7,
   "metadata": {},
   "outputs": [],
   "source": [
    "model = Net(src)\n",
    "y = model(images)"
   ]
  },
  {
   "cell_type": "markdown",
   "metadata": {},
   "source": [
    "## Training and Evaluating"
   ]
  },
  {
   "cell_type": "code",
   "execution_count": 8,
   "metadata": {},
   "outputs": [],
   "source": [
    "import torch.optim as optim\n",
    "\n",
    "criterion = nn.CrossEntropyLoss()\n",
    "optimizer = optim.SGD(model.parameters(), \n",
    "                      src['learning_rate'], \n",
    "                      momentum=0.9)"
   ]
  },
  {
   "cell_type": "code",
   "execution_count": 9,
   "metadata": {
    "scrolled": true
   },
   "outputs": [
    {
     "name": "stderr",
     "output_type": "stream",
     "text": [
      "\r",
      "  0%|                                                                                           | 0/20 [00:00<?, ?it/s]"
     ]
    },
    {
     "name": "stdout",
     "output_type": "stream",
     "text": [
      "Epoch [1/20], Step [1000/5000], Loss: 2.3155\n",
      "Epoch [1/20], Step [2000/5000], Loss: 2.2938\n",
      "Epoch [1/20], Step [3000/5000], Loss: 2.2681\n",
      "Epoch [1/20], Step [4000/5000], Loss: 2.2455\n",
      "Epoch [1/20], Step [5000/5000], Loss: 2.2270\n"
     ]
    },
    {
     "name": "stderr",
     "output_type": "stream",
     "text": [
      "\r",
      "  5%|████▏                                                                              | 1/20 [00:47<14:58, 47.30s/it]"
     ]
    },
    {
     "name": "stdout",
     "output_type": "stream",
     "text": [
      "Epoch [2/20], Step [1000/5000], Loss: 2.2229\n",
      "Epoch [2/20], Step [2000/5000], Loss: 2.2120\n",
      "Epoch [2/20], Step [3000/5000], Loss: 2.2046\n",
      "Epoch [2/20], Step [4000/5000], Loss: 2.1932\n",
      "Epoch [2/20], Step [5000/5000], Loss: 2.1890\n"
     ]
    },
    {
     "name": "stderr",
     "output_type": "stream",
     "text": [
      "\r",
      " 10%|████████▎                                                                          | 2/20 [01:57<16:14, 54.16s/it]"
     ]
    },
    {
     "name": "stdout",
     "output_type": "stream",
     "text": [
      "Epoch [3/20], Step [1000/5000], Loss: 2.1855\n",
      "Epoch [3/20], Step [2000/5000], Loss: 2.1816\n",
      "Epoch [3/20], Step [3000/5000], Loss: 2.1705\n",
      "Epoch [3/20], Step [4000/5000], Loss: 2.1711\n",
      "Epoch [3/20], Step [5000/5000], Loss: 2.1666\n"
     ]
    },
    {
     "name": "stderr",
     "output_type": "stream",
     "text": [
      "\r",
      " 15%|████████████▍                                                                      | 3/20 [02:47<14:59, 52.91s/it]"
     ]
    },
    {
     "name": "stdout",
     "output_type": "stream",
     "text": [
      "Epoch [4/20], Step [1000/5000], Loss: 2.1614\n",
      "Epoch [4/20], Step [2000/5000], Loss: 2.1620\n",
      "Epoch [4/20], Step [3000/5000], Loss: 2.1560\n",
      "Epoch [4/20], Step [4000/5000], Loss: 2.1613\n",
      "Epoch [4/20], Step [5000/5000], Loss: 2.1566\n"
     ]
    },
    {
     "name": "stderr",
     "output_type": "stream",
     "text": [
      "\r",
      " 20%|████████████████▌                                                                  | 4/20 [03:45<14:32, 54.53s/it]"
     ]
    },
    {
     "name": "stdout",
     "output_type": "stream",
     "text": [
      "Epoch [5/20], Step [1000/5000], Loss: 2.1475\n",
      "Epoch [5/20], Step [2000/5000], Loss: 2.1479\n",
      "Epoch [5/20], Step [3000/5000], Loss: 2.1446\n",
      "Epoch [5/20], Step [4000/5000], Loss: 2.1512\n",
      "Epoch [5/20], Step [5000/5000], Loss: 2.1437\n"
     ]
    },
    {
     "name": "stderr",
     "output_type": "stream",
     "text": [
      "\r",
      " 25%|████████████████████▊                                                              | 5/20 [04:50<14:21, 57.46s/it]"
     ]
    },
    {
     "name": "stdout",
     "output_type": "stream",
     "text": [
      "Epoch [6/20], Step [1000/5000], Loss: 2.1383\n",
      "Epoch [6/20], Step [2000/5000], Loss: 2.1383\n",
      "Epoch [6/20], Step [3000/5000], Loss: 2.1415\n",
      "Epoch [6/20], Step [4000/5000], Loss: 2.1340\n",
      "Epoch [6/20], Step [5000/5000], Loss: 2.1379\n"
     ]
    },
    {
     "name": "stderr",
     "output_type": "stream",
     "text": [
      "\r",
      " 30%|████████████████████████▉                                                          | 6/20 [05:41<12:57, 55.55s/it]"
     ]
    },
    {
     "name": "stdout",
     "output_type": "stream",
     "text": [
      "Epoch [7/20], Step [1000/5000], Loss: 2.1352\n",
      "Epoch [7/20], Step [2000/5000], Loss: 2.1392\n",
      "Epoch [7/20], Step [3000/5000], Loss: 2.1339\n",
      "Epoch [7/20], Step [4000/5000], Loss: 2.1381\n",
      "Epoch [7/20], Step [5000/5000], Loss: 2.1326\n"
     ]
    },
    {
     "name": "stderr",
     "output_type": "stream",
     "text": [
      "\r",
      " 35%|█████████████████████████████                                                      | 7/20 [06:42<12:22, 57.14s/it]"
     ]
    },
    {
     "name": "stdout",
     "output_type": "stream",
     "text": [
      "Epoch [8/20], Step [1000/5000], Loss: 2.1285\n",
      "Epoch [8/20], Step [2000/5000], Loss: 2.1263\n",
      "Epoch [8/20], Step [3000/5000], Loss: 2.1227\n",
      "Epoch [8/20], Step [4000/5000], Loss: 2.1287\n",
      "Epoch [8/20], Step [5000/5000], Loss: 2.1237\n"
     ]
    },
    {
     "name": "stderr",
     "output_type": "stream",
     "text": [
      "\r",
      " 40%|█████████████████████████████████▏                                                 | 8/20 [07:46<11:53, 59.43s/it]"
     ]
    },
    {
     "name": "stdout",
     "output_type": "stream",
     "text": [
      "Epoch [9/20], Step [1000/5000], Loss: 2.1247\n",
      "Epoch [9/20], Step [2000/5000], Loss: 2.1314\n",
      "Epoch [9/20], Step [3000/5000], Loss: 2.1245\n",
      "Epoch [9/20], Step [4000/5000], Loss: 2.1212\n",
      "Epoch [9/20], Step [5000/5000], Loss: 2.1216\n"
     ]
    },
    {
     "name": "stderr",
     "output_type": "stream",
     "text": [
      "\r",
      " 45%|█████████████████████████████████████▎                                             | 9/20 [08:50<11:08, 60.74s/it]"
     ]
    },
    {
     "name": "stdout",
     "output_type": "stream",
     "text": [
      "Epoch [10/20], Step [1000/5000], Loss: 2.1225\n",
      "Epoch [10/20], Step [2000/5000], Loss: 2.1198\n",
      "Epoch [10/20], Step [3000/5000], Loss: 2.1247\n",
      "Epoch [10/20], Step [4000/5000], Loss: 2.1173\n",
      "Epoch [10/20], Step [5000/5000], Loss: 2.1211\n"
     ]
    },
    {
     "name": "stderr",
     "output_type": "stream",
     "text": [
      "\r",
      " 50%|█████████████████████████████████████████                                         | 10/20 [09:59<10:31, 63.15s/it]"
     ]
    },
    {
     "name": "stdout",
     "output_type": "stream",
     "text": [
      "Epoch [11/20], Step [1000/5000], Loss: 2.1144\n",
      "Epoch [11/20], Step [2000/5000], Loss: 2.1187\n",
      "Epoch [11/20], Step [3000/5000], Loss: 2.1182\n",
      "Epoch [11/20], Step [4000/5000], Loss: 2.1204\n",
      "Epoch [11/20], Step [5000/5000], Loss: 2.1180\n"
     ]
    },
    {
     "name": "stderr",
     "output_type": "stream",
     "text": [
      "\r",
      " 55%|█████████████████████████████████████████████                                     | 11/20 [11:04<09:33, 63.69s/it]"
     ]
    },
    {
     "name": "stdout",
     "output_type": "stream",
     "text": [
      "Epoch [12/20], Step [1000/5000], Loss: 2.1123\n",
      "Epoch [12/20], Step [2000/5000], Loss: 2.1156\n",
      "Epoch [12/20], Step [3000/5000], Loss: 2.1105\n",
      "Epoch [12/20], Step [4000/5000], Loss: 2.1061\n",
      "Epoch [12/20], Step [5000/5000], Loss: 2.1171\n"
     ]
    },
    {
     "name": "stderr",
     "output_type": "stream",
     "text": [
      "\r",
      " 60%|█████████████████████████████████████████████████▏                                | 12/20 [12:09<08:32, 64.01s/it]"
     ]
    },
    {
     "name": "stdout",
     "output_type": "stream",
     "text": [
      "Epoch [13/20], Step [1000/5000], Loss: 2.1091\n",
      "Epoch [13/20], Step [2000/5000], Loss: 2.1132\n",
      "Epoch [13/20], Step [3000/5000], Loss: 2.1169\n",
      "Epoch [13/20], Step [4000/5000], Loss: 2.1080\n",
      "Epoch [13/20], Step [5000/5000], Loss: 2.1054\n"
     ]
    },
    {
     "name": "stderr",
     "output_type": "stream",
     "text": [
      "\r",
      " 65%|█████████████████████████████████████████████████████▎                            | 13/20 [13:13<07:28, 64.14s/it]"
     ]
    },
    {
     "name": "stdout",
     "output_type": "stream",
     "text": [
      "Epoch [14/20], Step [1000/5000], Loss: 2.1059\n",
      "Epoch [14/20], Step [2000/5000], Loss: 2.1071\n",
      "Epoch [14/20], Step [3000/5000], Loss: 2.1059\n",
      "Epoch [14/20], Step [4000/5000], Loss: 2.1089\n",
      "Epoch [14/20], Step [5000/5000], Loss: 2.1057\n"
     ]
    },
    {
     "name": "stderr",
     "output_type": "stream",
     "text": [
      "\r",
      " 70%|█████████████████████████████████████████████████████████▍                        | 14/20 [14:10<06:11, 61.87s/it]"
     ]
    },
    {
     "name": "stdout",
     "output_type": "stream",
     "text": [
      "Epoch [15/20], Step [1000/5000], Loss: 2.1048\n",
      "Epoch [15/20], Step [2000/5000], Loss: 2.1079\n",
      "Epoch [15/20], Step [3000/5000], Loss: 2.1008\n",
      "Epoch [15/20], Step [4000/5000], Loss: 2.1072\n",
      "Epoch [15/20], Step [5000/5000], Loss: 2.1043\n"
     ]
    },
    {
     "name": "stderr",
     "output_type": "stream",
     "text": [
      "\r",
      " 75%|█████████████████████████████████████████████████████████████▌                    | 15/20 [15:31<05:38, 67.74s/it]"
     ]
    },
    {
     "name": "stdout",
     "output_type": "stream",
     "text": [
      "Epoch [16/20], Step [1000/5000], Loss: 2.1040\n",
      "Epoch [16/20], Step [2000/5000], Loss: 2.1002\n",
      "Epoch [16/20], Step [3000/5000], Loss: 2.0987\n",
      "Epoch [16/20], Step [4000/5000], Loss: 2.1089\n",
      "Epoch [16/20], Step [5000/5000], Loss: 2.1106\n"
     ]
    },
    {
     "name": "stderr",
     "output_type": "stream",
     "text": [
      "\r",
      " 80%|█████████████████████████████████████████████████████████████████▌                | 16/20 [17:34<05:36, 84.21s/it]"
     ]
    },
    {
     "name": "stdout",
     "output_type": "stream",
     "text": [
      "Epoch [17/20], Step [1000/5000], Loss: 2.1010\n",
      "Epoch [17/20], Step [2000/5000], Loss: 2.1002\n",
      "Epoch [17/20], Step [3000/5000], Loss: 2.0973\n",
      "Epoch [17/20], Step [4000/5000], Loss: 2.1022\n",
      "Epoch [17/20], Step [5000/5000], Loss: 2.0962\n"
     ]
    },
    {
     "name": "stderr",
     "output_type": "stream",
     "text": [
      "\r",
      " 85%|█████████████████████████████████████████████████████████████████████▋            | 17/20 [18:29<03:46, 75.48s/it]"
     ]
    },
    {
     "name": "stdout",
     "output_type": "stream",
     "text": [
      "Epoch [18/20], Step [1000/5000], Loss: 2.0994\n",
      "Epoch [18/20], Step [2000/5000], Loss: 2.1002\n",
      "Epoch [18/20], Step [3000/5000], Loss: 2.0983\n",
      "Epoch [18/20], Step [4000/5000], Loss: 2.1018\n",
      "Epoch [18/20], Step [5000/5000], Loss: 2.0998\n"
     ]
    },
    {
     "name": "stderr",
     "output_type": "stream",
     "text": [
      "\r",
      " 90%|█████████████████████████████████████████████████████████████████████████▊        | 18/20 [19:28<02:21, 70.56s/it]"
     ]
    },
    {
     "name": "stdout",
     "output_type": "stream",
     "text": [
      "Epoch [19/20], Step [1000/5000], Loss: 2.0916\n",
      "Epoch [19/20], Step [2000/5000], Loss: 2.1023\n",
      "Epoch [19/20], Step [3000/5000], Loss: 2.0971\n",
      "Epoch [19/20], Step [4000/5000], Loss: 2.0963\n",
      "Epoch [19/20], Step [5000/5000], Loss: 2.0936\n"
     ]
    },
    {
     "name": "stderr",
     "output_type": "stream",
     "text": [
      "\r",
      " 95%|█████████████████████████████████████████████████████████████████████████████▉    | 19/20 [20:27<01:07, 67.25s/it]"
     ]
    },
    {
     "name": "stdout",
     "output_type": "stream",
     "text": [
      "Epoch [20/20], Step [1000/5000], Loss: 2.0889\n",
      "Epoch [20/20], Step [2000/5000], Loss: 2.0976\n",
      "Epoch [20/20], Step [3000/5000], Loss: 2.0888\n",
      "Epoch [20/20], Step [4000/5000], Loss: 2.0978\n",
      "Epoch [20/20], Step [5000/5000], Loss: 2.0899\n"
     ]
    },
    {
     "name": "stderr",
     "output_type": "stream",
     "text": [
      "100%|██████████████████████████████████████████████████████████████████████████████████| 20/20 [21:28<00:00, 65.16s/it]\n"
     ]
    }
   ],
   "source": [
    "from tqdm import tqdm\n",
    "\n",
    "model.init_weight()\n",
    "\n",
    "for epoch in tqdm(range(src['num_epochs'])):\n",
    "    current_loss = 0.0\n",
    "#     model.train(True)\n",
    "    \n",
    "    for i, data in enumerate(trainloader):\n",
    "        # get the inputs\n",
    "        inputs, labels = data\n",
    "        \n",
    "        # zero the parameter gradients\n",
    "        optimizer.zero_grad()\n",
    "        \n",
    "        # forward + backward + optimize\n",
    "        outputs = model(inputs)\n",
    "        loss = criterion(outputs, labels)\n",
    "        loss.backward()\n",
    "        optimizer.step()\n",
    "        \n",
    "        # print statistics\n",
    "        step = i + 1\n",
    "        current_loss += loss.item()\n",
    "        \n",
    "        if step % 1000 == 0 and step != 0:     # print every 1000 mini-batches\n",
    "            print('Epoch [%d/%d], Step [%d/%d], Loss: %.4f' %\n",
    "                  (epoch + 1, src['num_epochs'], step, len(trainloader)//1000 * 1000, current_loss / 1000))\n",
    "            current_loss = 0.0 #천번동안 있었던 loss의 누적값 평균, 그 후 reset"
   ]
  },
  {
   "cell_type": "code",
   "execution_count": 11,
   "metadata": {},
   "outputs": [
    {
     "name": "stdout",
     "output_type": "stream",
     "text": [
      "Accuracy of the network on the test images: 35 %\n"
     ]
    }
   ],
   "source": [
    "import torch\n",
    "# Test the Model\n",
    "correct = 0\n",
    "total = 0\n",
    "for i, data in enumerate(testloader):\n",
    "    inputs, labels = data\n",
    "#     images = images.view(-1, 28*28)\n",
    "    outputs = model(inputs)\n",
    "    _, predicted = torch.max(outputs.data, 1)\n",
    "    total += labels.shape[0]\n",
    "    correct += (predicted == labels).sum()\n",
    "\n",
    "print('Accuracy of the network on the test images: %d %%' % (100 * correct / total))\n",
    "\n",
    "# Accuracy of the network on the test images: 35 %"
   ]
  }
 ],
 "metadata": {
  "kernelspec": {
   "display_name": "Python 3",
   "language": "python",
   "name": "python3"
  },
  "language_info": {
   "codemirror_mode": {
    "name": "ipython",
    "version": 3
   },
   "file_extension": ".py",
   "mimetype": "text/x-python",
   "name": "python",
   "nbconvert_exporter": "python",
   "pygments_lexer": "ipython3",
   "version": "3.6.8"
  }
 },
 "nbformat": 4,
 "nbformat_minor": 2
}
