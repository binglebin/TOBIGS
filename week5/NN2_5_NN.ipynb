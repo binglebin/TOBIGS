{
 "cells": [
  {
   "cell_type": "markdown",
   "metadata": {},
   "source": [
    "### Matrix 정리\n",
    "$ X == (N,D) $  \n",
    "$ W_1 == (D,H) $  \n",
    "$ b_1 == (H,) $  \n",
    "$ H == (N,H) $  \n",
    "$ A == (N,H) $  \n",
    "$ W_2 == (H,C) $  \n",
    "$ b_2 == (C,) $  \n",
    "$ S == (N,C) $  \n",
    "$ P == (N,C) $  "
   ]
  },
  {
   "cell_type": "markdown",
   "metadata": {},
   "source": [
    "### Matrix 미분 정리  \n",
    "$ H = XW + b\\qquad  (N, H) = (N, D) \\times (D, H) + (H,) $  \n",
    "$ L = f(H) $  \n",
    "$ {\\partial L \\over \\partial W} = X^T {\\partial L \\over \\partial H} = {\\partial H \\over \\partial W} \\times {\\partial L \\over \\partial H}$  \n",
    "$ {\\partial L \\over \\partial X} = {\\partial L \\over \\partial H} W^T = {\\partial L \\over \\partial H} \\times {\\partial H \\over \\partial X}$  \n",
    "$ {\\partial L \\over \\partial b} = 1*{\\partial L \\over \\partial H}  $  "
   ]
  },
  {
   "cell_type": "markdown",
   "metadata": {},
   "source": [
    "### 2 Layers Chain Rule 정리\n",
    "$ H = XW_1 + b_1$  \n",
    "$ A = ReLU(H) $  \n",
    "$ S = AW_2 + b_2 $  \n",
    "$ P = Softmax(S) $    \n",
    "$ L = -LogLikelihood(P) $  \n",
    "$ {\\partial L \\over \\partial S} = P - T $ : T는 Label  \n",
    "$ {\\partial L \\over \\partial W_2} = {\\partial S \\over \\partial W_2}{\\partial L \\over \\partial S} = A^T (P-T) $  \n",
    "$ {\\partial L \\over \\partial b_2} = 1 * {\\partial L \\over \\partial S} = P-T $  \n",
    "$ {\\partial L \\over \\partial A} = {\\partial L \\over \\partial S}{\\partial S \\over \\partial A} = (P-T)W_2^T $  \n",
    "$ {\\partial L \\over \\partial H} = (A>0) * {\\partial L \\over \\partial A} $  \n",
    "$ {\\partial L \\over \\partial W_1} = {\\partial H \\over \\partial W_1}{\\partial L \\over \\partial H} = X^T {\\partial L \\over \\partial H}  $  \n",
    "$ {\\partial L \\over \\partial b_1} = 1 * {\\partial L \\over \\partial H} = {\\partial L \\over \\partial H} $  "
   ]
  },
  {
   "cell_type": "markdown",
   "metadata": {},
   "source": [
    "### Softmax - Cross Entropy Error미분  \n",
    "<img src=\"img/fig a-5.png\">"
   ]
  },
  {
   "cell_type": "markdown",
   "metadata": {},
   "source": [
    "### 데이터 Load  \n",
    "cifar-10 데이터를 불러옵니다.  \n",
    "프레임워크 내 자체적으로 데이터를 로드할 수 있지만, \n",
    "이렇게도 데이터 로드가 가능합니다!  \n",
    "32  32  3 차원의 데이터를 3072 차원으로 바뀌는 것 까지 드릴게요."
   ]
  },
  {
   "cell_type": "code",
   "execution_count": 1,
   "metadata": {},
   "outputs": [],
   "source": [
    "from load_cifar_10 import *\n",
    "import numpy as np\n",
    "from Model import TwoLayerNet"
   ]
  },
  {
   "cell_type": "code",
   "execution_count": 2,
   "metadata": {},
   "outputs": [],
   "source": [
    "cifar_10_dir = 'cifar-10-batches-py'\n",
    "\n",
    "train_data, train_filenames, train_labels, test_data, test_filenames, test_labels, label_names = \\\n",
    "load_cifar_10_data(cifar_10_dir)\n",
    "\n",
    "def Processing_data(train, test):\n",
    "    #change dtype\n",
    "    train = np.array(train, dtype=np.float64)\n",
    "    test = np.array(test, dtype=np.float64)\n",
    "    \n",
    "    #Reshaping\n",
    "    train = np.reshape(train, (train.shape[0], -1))\n",
    "    test = np.reshape(test, (test.shape[0], -1))\n",
    "    \n",
    "    #Normalizing\n",
    "    mean_image = np.mean(train, axis = 0)\n",
    "    #print(train.dtype)\n",
    "    train -= mean_image\n",
    "    test -= mean_image\n",
    "    \n",
    "    return train, test"
   ]
  },
  {
   "cell_type": "code",
   "execution_count": 3,
   "metadata": {
    "scrolled": true
   },
   "outputs": [
    {
     "name": "stdout",
     "output_type": "stream",
     "text": [
      "(50000, 32, 32, 3)\n",
      "(50000,)\n",
      "(10000, 32, 32, 3)\n",
      "(10000,)\n",
      "[b'airplane' b'automobile' b'bird' b'cat' b'deer' b'dog' b'frog' b'horse'\n",
      " b'ship' b'truck']\n"
     ]
    }
   ],
   "source": [
    "print(train_data.shape) \n",
    "print(train_labels.shape) \n",
    "print(test_data.shape) \n",
    "print(test_labels.shape) \n",
    "print(label_names) \n"
   ]
  },
  {
   "cell_type": "code",
   "execution_count": 4,
   "metadata": {},
   "outputs": [],
   "source": [
    "train_data, test_data = Processing_data(train_data, test_data)"
   ]
  },
  {
   "cell_type": "code",
   "execution_count": 5,
   "metadata": {},
   "outputs": [
    {
     "name": "stdout",
     "output_type": "stream",
     "text": [
      "(50000, 3072)\n",
      "(50000,)\n",
      "(10000, 3072)\n",
      "(10000,)\n"
     ]
    }
   ],
   "source": [
    "print(train_data.shape)\n",
    "print(train_labels.shape)\n",
    "print(test_data.shape)\n",
    "print(test_labels.shape)"
   ]
  },
  {
   "cell_type": "markdown",
   "metadata": {},
   "source": [
    "너무 많으니까 5000개, 1000개만 사용합시다!"
   ]
  },
  {
   "cell_type": "code",
   "execution_count": 10,
   "metadata": {},
   "outputs": [
    {
     "data": {
      "text/plain": [
       "'\\ntrain_data = train_data[:5000]\\ntrain_labels = train_labels[:5000]\\ntest_data = test_data[:1000]\\ntest_labels = test_labels[:1000]\\n'"
      ]
     },
     "execution_count": 10,
     "metadata": {},
     "output_type": "execute_result"
    }
   ],
   "source": [
    "'''\n",
    "train_data = train_data[:5000]\n",
    "train_labels = train_labels[:5000]\n",
    "test_data = test_data[:1000]\n",
    "test_labels = test_labels[:1000]\n",
    "'''"
   ]
  },
  {
   "cell_type": "markdown",
   "metadata": {},
   "source": [
    "### 데이터 확인  \n",
    "실제 데이터가 어떻게 생겼는지는 한번 확인해보세요!"
   ]
  },
  {
   "cell_type": "code",
   "execution_count": 6,
   "metadata": {},
   "outputs": [
    {
     "name": "stdout",
     "output_type": "stream",
     "text": [
      "[[ -71.71074  -74.05614  -69.5538  ...   -3.63908  -33.8503   -42.38186]\n",
      " [  23.28926   40.94386   54.4462  ...   16.36092    7.1497    29.61814]\n",
      " [ 124.28926  118.94386  122.4462  ...  -46.63908  -39.8503   -30.38186]\n",
      " [-102.71074 -111.05614 -122.5538  ...  -54.63908  -60.8503   -68.38186]\n",
      " [  39.28926   43.94386   65.4462  ...  -53.63908  -48.8503   -34.38186]]\n",
      "[6 9 9 4 1]\n",
      "[b'airplane' b'automobile' b'bird' b'cat' b'deer' b'dog' b'frog' b'horse'\n",
      " b'ship' b'truck']\n"
     ]
    }
   ],
   "source": [
    "print(train_data[:5]) \n",
    "print(train_labels[:5]) \n",
    "print(label_names) \n"
   ]
  },
  {
   "cell_type": "markdown",
   "metadata": {},
   "source": [
    "### 하이퍼파라미터 설정  \n",
    "하이퍼파라미터를 설정하겠습니다.  \n",
    "hidden_size, epoch_size, batch_size, learning_rate 등은 전부 하이퍼 파라미터이니 바꿔서 해보세요."
   ]
  },
  {
   "cell_type": "code",
   "execution_count": 7,
   "metadata": {},
   "outputs": [],
   "source": [
    "input_size = 32 * 32 * 3\n",
    "hidden_size = 50\n",
    "output_size = 10\n",
    "epoch_size = 1000\n",
    "batch_size = 1000\n",
    "learning_rate = 0.001\n",
    "N = train_data.shape[0]"
   ]
  },
  {
   "cell_type": "markdown",
   "metadata": {},
   "source": [
    "### 모델 만들기  \n",
    "input_size, hidden_size, output_size는 데이터에 맞게 잘 설정해주세요."
   ]
  },
  {
   "cell_type": "code",
   "execution_count": 8,
   "metadata": {
    "scrolled": true
   },
   "outputs": [],
   "source": [
    "nn = TwoLayerNet(input_size=input_size, hidden_size=hidden_size, output_size=output_size)"
   ]
  },
  {
   "cell_type": "code",
   "execution_count": 9,
   "metadata": {
    "scrolled": false
   },
   "outputs": [
    {
     "name": "stdout",
     "output_type": "stream",
     "text": [
      "0 accuracy : 0.0909\n",
      "0 loss     : 2.3025738421746507\n",
      "10 accuracy : 0.2176\n",
      "10 loss     : 2.302425227907065\n",
      "20 accuracy : 0.2334\n",
      "20 loss     : 2.3020300619335523\n",
      "30 accuracy : 0.2048\n",
      "30 loss     : 2.300681836110925\n",
      "40 accuracy : 0.1768\n",
      "40 loss     : 2.2958714333688253\n",
      "50 accuracy : 0.1671\n",
      "50 loss     : 2.28040003759526\n",
      "60 accuracy : 0.1656\n",
      "60 loss     : 2.2454971258806578\n",
      "70 accuracy : 0.1751\n",
      "70 loss     : 2.203564548290036\n",
      "80 accuracy : 0.1941\n",
      "80 loss     : 2.16353246280563\n",
      "90 accuracy : 0.2101\n",
      "90 loss     : 2.127433270358852\n",
      "100 accuracy : 0.228\n",
      "100 loss     : 2.0969961460637068\n",
      "110 accuracy : 0.2375\n",
      "110 loss     : 2.070775847211754\n",
      "120 accuracy : 0.2456\n",
      "120 loss     : 2.0473862205829105\n",
      "130 accuracy : 0.2542\n",
      "130 loss     : 2.025738481289479\n",
      "140 accuracy : 0.2621\n",
      "140 loss     : 2.005448419512034\n",
      "150 accuracy : 0.268\n",
      "150 loss     : 1.986092080349465\n",
      "160 accuracy : 0.2728\n",
      "160 loss     : 1.9677567528861961\n",
      "170 accuracy : 0.2782\n",
      "170 loss     : 1.950727353744613\n",
      "180 accuracy : 0.2841\n",
      "180 loss     : 1.9347028391022547\n",
      "190 accuracy : 0.2909\n",
      "190 loss     : 1.9199124081404337\n",
      "200 accuracy : 0.3008\n",
      "200 loss     : 1.9062591620360116\n",
      "210 accuracy : 0.3078\n",
      "210 loss     : 1.8934568566669032\n",
      "220 accuracy : 0.3133\n",
      "220 loss     : 1.8816182544125029\n",
      "230 accuracy : 0.3198\n",
      "230 loss     : 1.8702576285951862\n",
      "240 accuracy : 0.3254\n",
      "240 loss     : 1.859442518780315\n",
      "250 accuracy : 0.3311\n",
      "250 loss     : 1.8490839909780508\n",
      "260 accuracy : 0.3346\n",
      "260 loss     : 1.8394100802970639\n",
      "270 accuracy : 0.3403\n",
      "270 loss     : 1.8300574842433368\n",
      "280 accuracy : 0.345\n",
      "280 loss     : 1.8211499449514843\n",
      "290 accuracy : 0.3491\n",
      "290 loss     : 1.8127224519296956\n",
      "300 accuracy : 0.3543\n",
      "300 loss     : 1.8045323371990585\n",
      "310 accuracy : 0.3587\n",
      "310 loss     : 1.7964729354780462\n",
      "320 accuracy : 0.3609\n",
      "320 loss     : 1.788741800985082\n",
      "330 accuracy : 0.3634\n",
      "330 loss     : 1.7813316278055484\n",
      "340 accuracy : 0.3651\n",
      "340 loss     : 1.773823943328544\n",
      "350 accuracy : 0.3672\n",
      "350 loss     : 1.7667866884201404\n",
      "360 accuracy : 0.3699\n",
      "360 loss     : 1.7600901441191417\n",
      "370 accuracy : 0.373\n",
      "370 loss     : 1.753285000300432\n",
      "380 accuracy : 0.3759\n",
      "380 loss     : 1.7467892260550213\n",
      "390 accuracy : 0.3778\n",
      "390 loss     : 1.7404768091930098\n",
      "400 accuracy : 0.3803\n",
      "400 loss     : 1.7343205912314006\n",
      "410 accuracy : 0.3848\n",
      "410 loss     : 1.7285524483711927\n",
      "420 accuracy : 0.3866\n",
      "420 loss     : 1.7226246198238482\n",
      "430 accuracy : 0.3892\n",
      "430 loss     : 1.7170865430531206\n",
      "440 accuracy : 0.3913\n",
      "440 loss     : 1.7117538745819347\n",
      "450 accuracy : 0.3926\n",
      "450 loss     : 1.7063096349438056\n",
      "460 accuracy : 0.3944\n",
      "460 loss     : 1.7011003502995319\n",
      "470 accuracy : 0.3976\n",
      "470 loss     : 1.6959492865298096\n",
      "480 accuracy : 0.3998\n",
      "480 loss     : 1.6909704814127373\n",
      "490 accuracy : 0.4027\n",
      "490 loss     : 1.6861807039483356\n",
      "500 accuracy : 0.4039\n",
      "500 loss     : 1.6813931802942104\n",
      "510 accuracy : 0.4059\n",
      "510 loss     : 1.6766993167000732\n",
      "520 accuracy : 0.4072\n",
      "520 loss     : 1.6721024499367174\n",
      "530 accuracy : 0.408\n",
      "530 loss     : 1.6676268011298894\n",
      "540 accuracy : 0.4083\n",
      "540 loss     : 1.6632619593799667\n",
      "550 accuracy : 0.4117\n",
      "550 loss     : 1.6588468631668847\n",
      "560 accuracy : 0.412\n",
      "560 loss     : 1.654613075861494\n",
      "570 accuracy : 0.415\n",
      "570 loss     : 1.6506303132868212\n",
      "580 accuracy : 0.4149\n",
      "580 loss     : 1.646424596965441\n",
      "590 accuracy : 0.417\n",
      "590 loss     : 1.6425750462575333\n",
      "600 accuracy : 0.4192\n",
      "600 loss     : 1.6386031083910053\n",
      "610 accuracy : 0.4217\n",
      "610 loss     : 1.6348465651081787\n",
      "620 accuracy : 0.4236\n",
      "620 loss     : 1.631296153861584\n",
      "630 accuracy : 0.4249\n",
      "630 loss     : 1.627613798996586\n",
      "640 accuracy : 0.4258\n",
      "640 loss     : 1.6239758569971743\n",
      "650 accuracy : 0.428\n",
      "650 loss     : 1.6203737371338043\n",
      "660 accuracy : 0.4292\n",
      "660 loss     : 1.6170209940217588\n",
      "670 accuracy : 0.4321\n",
      "670 loss     : 1.613748253627598\n",
      "680 accuracy : 0.4333\n",
      "680 loss     : 1.6103060615056821\n",
      "690 accuracy : 0.4347\n",
      "690 loss     : 1.6072374412041648\n",
      "700 accuracy : 0.4346\n",
      "700 loss     : 1.604097127439505\n",
      "710 accuracy : 0.4359\n",
      "710 loss     : 1.601237512654101\n",
      "720 accuracy : 0.4374\n",
      "720 loss     : 1.598124538963708\n",
      "730 accuracy : 0.4374\n",
      "730 loss     : 1.5951725861786255\n",
      "740 accuracy : 0.4391\n",
      "740 loss     : 1.5922701597443705\n",
      "750 accuracy : 0.439\n",
      "750 loss     : 1.589400184451958\n",
      "760 accuracy : 0.4401\n",
      "760 loss     : 1.5865477529116185\n",
      "770 accuracy : 0.4417\n",
      "770 loss     : 1.5837361663013199\n",
      "780 accuracy : 0.4431\n",
      "780 loss     : 1.5810948176837658\n",
      "790 accuracy : 0.4442\n",
      "790 loss     : 1.5782849251193027\n",
      "800 accuracy : 0.4437\n",
      "800 loss     : 1.575804692291825\n",
      "810 accuracy : 0.4457\n",
      "810 loss     : 1.5732846402683347\n",
      "820 accuracy : 0.4464\n",
      "820 loss     : 1.5707975380096382\n",
      "830 accuracy : 0.4473\n",
      "830 loss     : 1.5685666638213813\n",
      "840 accuracy : 0.4478\n",
      "840 loss     : 1.5661827792071616\n",
      "850 accuracy : 0.4495\n",
      "850 loss     : 1.5637845996998727\n",
      "860 accuracy : 0.4498\n",
      "860 loss     : 1.5615517109015586\n",
      "870 accuracy : 0.4499\n",
      "870 loss     : 1.5595892648501803\n",
      "880 accuracy : 0.4514\n",
      "880 loss     : 1.5571919790922812\n",
      "890 accuracy : 0.4525\n",
      "890 loss     : 1.5551597194106446\n",
      "900 accuracy : 0.4534\n",
      "900 loss     : 1.5534112512093554\n",
      "910 accuracy : 0.4552\n",
      "910 loss     : 1.5513681069675194\n",
      "920 accuracy : 0.4573\n",
      "920 loss     : 1.5492434994243065\n",
      "930 accuracy : 0.4574\n",
      "930 loss     : 1.5475668776385914\n",
      "940 accuracy : 0.457\n",
      "940 loss     : 1.545555478444346\n",
      "950 accuracy : 0.4583\n",
      "950 loss     : 1.5435050526687397\n",
      "960 accuracy : 0.4591\n",
      "960 loss     : 1.5415817337811442\n",
      "970 accuracy : 0.4591\n",
      "970 loss     : 1.5397199040212122\n",
      "980 accuracy : 0.4595\n",
      "980 loss     : 1.538026959864089\n",
      "990 accuracy : 0.4604\n",
      "990 loss     : 1.5362129430392677\n"
     ]
    }
   ],
   "source": [
    "history = {'acc': [],'loss': []} #기록해서 그림 그리자!\n",
    "\n",
    "#코드를 보며 epoch, batch에 대해서 이해해봅시다.\n",
    "for i in range(epoch_size):\n",
    "    for j in range(N//batch_size):\n",
    "        batch_mask = np.random.choice(N, batch_size) #이번 배치에서 쓸 데이터들 인덱스 추출\n",
    "        x_batch = train_data[batch_mask]\n",
    "        t_batch = train_labels[batch_mask]\n",
    "        \n",
    "        nn.backward(x_batch, t_batch) # 가중치 갱신\n",
    "    \n",
    "    #accuracy와 loss를 기록해둡시다.\n",
    "    history[\"acc\"].append(nn.accuracy(test_data, test_labels))\n",
    "    history[\"loss\"].append(nn.forward(test_data, test_labels))\n",
    "    \n",
    "    if i % 10 == 0:\n",
    "        print(i, \"accuracy :\", nn.accuracy(test_data, test_labels))\n",
    "        print(i, \"loss     :\", nn.forward(test_data, test_labels))"
   ]
  },
  {
   "cell_type": "markdown",
   "metadata": {},
   "source": [
    "### 그림 그리기"
   ]
  },
  {
   "cell_type": "code",
   "execution_count": 16,
   "metadata": {},
   "outputs": [
    {
     "data": {
      "image/png": "[encoded data removed]",
      "text/plain": [
       "<Figure size 432x288 with 2 Axes>"
      ]
     },
     "metadata": {
      "needs_background": "light"
     },
     "output_type": "display_data"
    }
   ],
   "source": [
    "fig = plt.figure()\n",
    "ax_acc = fig.add_subplot(111)\n",
    "\n",
    "ax_acc.plot(range(epoch_size), history['acc'], label='정확도(%)', color='darkred')\n",
    "#plt.text(3, 14.7, \"<----------------정확도(%)\", verticalalignment='top', horizontalalignment='right')\n",
    "plt.xlabel('epochs')\n",
    "plt.ylabel('Accuracy(%)')\n",
    "ax_acc.grid(linestyle='--', color='lavender')\n",
    "ax_loss = ax_acc.twinx()\n",
    "ax_loss.plot(range(epoch_size), history['loss'], label='오차', color='darkblue')\n",
    "#plt.text(3, 2.2, \"<----------------오차\", verticalalignment='top', horizontalalignment='left')\n",
    "plt.ylabel('Error')\n",
    "ax_loss.yaxis.tick_right()\n",
    "ax_loss.grid(linestyle='--', color='lavender')\n",
    "\n",
    "# 그래프 표시\n",
    "plt.show()"
   ]
  }
 ],
 "metadata": {
  "kernelspec": {
   "display_name": "Python 3",
   "language": "python",
   "name": "python3"
  },
  "language_info": {
   "codemirror_mode": {
    "name": "ipython",
    "version": 3
   },
   "file_extension": ".py",
   "mimetype": "text/x-python",
   "name": "python",
   "nbconvert_exporter": "python",
   "pygments_lexer": "ipython3",
   "version": "3.6.8"
  }
 },
 "nbformat": 4,
 "nbformat_minor": 2
}
