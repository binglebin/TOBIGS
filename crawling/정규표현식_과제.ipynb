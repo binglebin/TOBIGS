{
 "cells": [
  {
   "cell_type": "markdown",
   "metadata": {},
   "source": [
    "## 정규표현식"
   ]
  },
  {
   "cell_type": "code",
   "execution_count": 7,
   "metadata": {},
   "outputs": [
    {
     "name": "stdout",
     "output_type": "stream",
     "text": [
      "202h오112-2131-3256늘점0-2352-1235심은22 t9고등2263-3253-1231어03 !t&?2 56지금p22:시45ㄱ9ㅏㄴ2/@52-2345-1231@#5은039새/65w4432@3474-5432-1567#!&w34w2.2d 45032a 343t\n",
      "23ㅂ5ㅕ43ㄷa 3ㅏ596ㅅ40ㅓmㅅ23시a786 r343 2k4 08너521-2354-1234e  11ㅁt6ㅜ.6 008k2ㅁ7423-1234-1632r5ㅜ/22졸x55e1ㄹ23/@512-4346-8521b3ㅕ45o6467흑a@@r53ㅠd_\n",
      "3547O4j232P211W32Y2315\n"
     ]
    }
   ],
   "source": [
    "import re\n",
    "\n",
    "with open('data.txt', 'r') as f:\n",
    "    txt = f.read()\n",
    "data = txt[6:len(txt)-1]\n",
    "print(data)"
   ]
  },
  {
   "cell_type": "code",
   "execution_count": 13,
   "metadata": {},
   "outputs": [],
   "source": [
    "p1 = re.compile('[:/_.A-Za-z]+')"
   ]
  },
  {
   "cell_type": "code",
   "execution_count": 2,
   "metadata": {
    "scrolled": true
   },
   "outputs": [
    {
     "name": "stdout",
     "output_type": "stream",
     "text": [
      "http://www.datamarket.kr/xe/board_OjPWY\n"
     ]
    }
   ],
   "source": [
    "str1 = \"\".join(p1.findall(data)) \n",
    "print(str1)"
   ]
  },
  {
   "cell_type": "code",
   "execution_count": 3,
   "metadata": {
    "scrolled": true
   },
   "outputs": [
    {
     "name": "stdout",
     "output_type": "stream",
     "text": [
      "12/53575\n"
     ]
    }
   ],
   "source": [
    "p2 = re.compile('\\d{2,4}-\\d{4}-\\d{4}')\n",
    "temp = \"\"\n",
    "for i in p2.findall(data):\n",
    "    temp += i[0]\n",
    "str2 = temp[:2] + '/' + temp[2:]\n",
    "print(str2)"
   ]
  },
  {
   "cell_type": "code",
   "execution_count": 4,
   "metadata": {
    "scrolled": true
   },
   "outputs": [
    {
     "name": "stdout",
     "output_type": "stream",
     "text": [
      "http://www.datamarket.kr/xe/board_OjPWY12/53575\n"
     ]
    }
   ],
   "source": [
    "addr = str1 + str2\n",
    "print(addr)"
   ]
  },
  {
   "cell_type": "code",
   "execution_count": 5,
   "metadata": {},
   "outputs": [
    {
     "name": "stdout",
     "output_type": "stream",
     "text": [
      "lovetobigs\n"
     ]
    }
   ],
   "source": [
    "clue = '여러분 고생하십니다 ㅠㅠㅠ 모두들 화이팅!! 다들 제가 아낍니다 ㅋㅋㅋ lovetobigs!! ㅎㅎ'\n",
    "\n",
    "p3 = re.compile('[a-zA-Z]+')\n",
    "str3 = ''.join(p3.findall(clue))\n",
    "print(str3)"
   ]
  },
  {
   "cell_type": "code",
   "execution_count": 6,
   "metadata": {},
   "outputs": [
    {
     "name": "stdout",
     "output_type": "stream",
     "text": [
      "오늘점심은고등어지금시ㄱㅏㄴ은새ㅂㅕㄷㅏㅅㅓㅅ시너ㅁㅜㅁㅜ졸ㄹㅕ흑ㅠ\n"
     ]
    }
   ],
   "source": [
    "p4 = re.compile('[가-힣ㄱ-ㅎㅏ-ㅣ]+')\n",
    "str4 = \"\".join(p4.findall(data))\n",
    "print(str4)"
   ]
  },
  {
   "cell_type": "code",
   "execution_count": null,
   "metadata": {},
   "outputs": [],
   "source": []
  }
 ],
 "metadata": {
  "kernelspec": {
   "display_name": "Python 3",
   "language": "python",
   "name": "python3"
  },
  "language_info": {
   "codemirror_mode": {
    "name": "ipython",
    "version": 3
   },
   "file_extension": ".py",
   "mimetype": "text/x-python",
   "name": "python",
   "nbconvert_exporter": "python",
   "pygments_lexer": "ipython3",
   "version": "3.6.8"
  }
 },
 "nbformat": 4,
 "nbformat_minor": 2
}
